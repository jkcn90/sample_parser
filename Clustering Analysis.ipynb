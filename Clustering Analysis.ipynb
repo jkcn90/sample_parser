{
 "cells": [
  {
   "cell_type": "code",
   "execution_count": 1,
   "metadata": {
    "collapsed": true
   },
   "outputs": [],
   "source": [
    "import json\n",
    "import numpy as np\n",
    "\n",
    "from sklearn import metrics\n",
    "from sklearn.pipeline import make_pipeline\n",
    "from sklearn.cluster import MiniBatchKMeans\n",
    "from sklearn.preprocessing import Normalizer\n",
    "from sklearn.decomposition import TruncatedSVD\n",
    "from sklearn.feature_extraction.text import TfidfVectorizer"
   ]
  },
  {
   "cell_type": "code",
   "execution_count": 2,
   "metadata": {
    "collapsed": true
   },
   "outputs": [],
   "source": [
    "data_file_path = \"data/sample_conversations.json\"\n",
    "\n",
    "with open(data_file_path) as data_file:\n",
    "    raw_data = json.load(data_file)\n",
    "    \n",
    "messages = [message['Text'] for datum in raw_data['Issues'] for message in datum['Messages']]"
   ]
  },
  {
   "cell_type": "code",
   "execution_count": 23,
   "metadata": {
    "collapsed": false
   },
   "outputs": [
    {
     "name": "stdout",
     "output_type": "stream",
     "text": [
      "n_samples: 22264, n_features: 916\n"
     ]
    }
   ],
   "source": [
    "vectorizer = TfidfVectorizer(analyzer='word', ngram_range=(1, 3), stop_words='english',\n",
    "                             max_df=0.008, min_df=0.0009)\n",
    "X = vectorizer.fit_transform(messages)\n",
    "\n",
    "print(\"n_samples: %d, n_features: %d\" % X.shape)"
   ]
  },
  {
   "cell_type": "code",
   "execution_count": 24,
   "metadata": {
    "collapsed": false
   },
   "outputs": [],
   "source": [
    "#n_components = 5000\n",
    "\n",
    "#svd = TruncatedSVD(n_components)\n",
    "#lsa = make_pipeline(svd, Normalizer(copy=False))\n",
    "\n",
    "#X = lsa.fit_transform(X)\n",
    "#explained_variance = svd.explained_variance_ratio_.sum()\n",
    "#print(\"Explained variance of the SVD step: {}%\".format(int(explained_variance * 100)))"
   ]
  },
  {
   "cell_type": "code",
   "execution_count": 25,
   "metadata": {
    "collapsed": false,
    "scrolled": true
   },
   "outputs": [
    {
     "name": "stdout",
     "output_type": "stream",
     "text": [
      "Top terms per cluster:\n",
      "Cluster 0: channels working issues having right channels tickets live performance live purchase double\n",
      "Cluster 1: discount hi cable associated ahead sort couldn town make sure associated account confirmed march\n",
      "Cluster 2: created ticket set created 2pm enjoy install takes hours later place\n",
      "Cluster 3: perfect oh sounds great sounds actually yeah zip code free book free fraudulent\n",
      "Cluster 4: appreciate asap need new new modem really like cancel customer years years cancel guess\n",
      "Cluster 5: welcome great welcome great day loyal zip code flight number friday free charge free book free fraudulent\n",
      "Cluster 6: departure flight number departure number departure flight number fine hear missed flight hear missed sorry hear missed missed flight flight flight number\n",
      "Cluster 7: thx book like sounds great sounds paid assist order number assist order helps funds nancy\n",
      "Cluster 8: free book choice free book choice like send deal having thats book like like offer\n",
      "Cluster 9: great news news 8pm direct went service new kevin prefer service area flight number departure\n",
      "Cluster 10: cellphone number cellphone provide cellphone number provide cellphone oh providing thank providing able help investigate associated account\n",
      "Cluster 11: hours zip code flight leaving friday free charge free book free fraudulent food ordering account food ordering\n",
      "Cluster 12: number associated contract associated contract cell number associated number associated associated cell number assist cell assist cell number tell mail\n",
      "Cluster 13: great let authorize hold pull hold confirm booked okay great standby let look check\n",
      "Cluster 14: seeing experiencing usps agent receiving twice way earlier resolve double\n",
      "Cluster 15: wrong wrong table pick correct correct table purchased deliver box table online nice\n",
      "Cluster 16: great thank guess flight home guys okay great second oh check required pull information\n",
      "Cluster 17: require signature require supposed gone got home signature notice package standby door\n",
      "Cluster 18: experiencing hi kevin issues kevin cell phone happy help great good great good day good day flights\n",
      "Cluster 19: right check tried rebooting rebooting slow currently table delivered yea really sounds\n"
     ]
    }
   ],
   "source": [
    "n_clusters = 1000\n",
    "\n",
    "km = MiniBatchKMeans(n_clusters=n_clusters, n_init=1, init_size=10000, batch_size=5000)\n",
    "\n",
    "km.fit(X)\n",
    "\n",
    "print(\"Top terms per cluster:\")\n",
    "order_centroids = km.cluster_centers_.argsort()[:, ::-1]\n",
    "terms = vectorizer.get_feature_names()\n",
    "for i in range(min(n_clusters, 20)):\n",
    "    print(\"Cluster %d:\" % i, end='')\n",
    "    for ind in order_centroids[i, :10]:\n",
    "        print(' %s' % terms[ind], end='')\n",
    "    print()"
   ]
  },
  {
   "cell_type": "code",
   "execution_count": 26,
   "metadata": {
    "collapsed": false
   },
   "outputs": [
    {
     "data": {
      "text/plain": [
       "['I do have my wifi connection up',\n",
       " 'My cellphone seems to not be dialing out at all right now but I do have wifi. Help!',\n",
       " 'Whenever i try to connect, I do make sure that both my chromecast and my nexus are housed on the same wifi network which i made sure is relayed through a stronger buffalo router. But everytime i play a movie over the network attached storage, it just disconnects',\n",
       " 'Which system? There are 4 systems at work here. The chromecast, the nexus, the wifi router, the television',\n",
       " 'It seems your modem must have been insecure and people have access to it. When last did you change you wifi password?',\n",
       " 'It seems your modem must have been insecure and people have access to it. When last did you change you wifi password?',\n",
       " 'Still can connect to wifi',\n",
       " 'Only wifi works',\n",
       " 'Hello, I just noticed that my 3G service is no longer working on my phone. However, wifi is working fine. Can you help me with this issue?',\n",
       " 'Wifi working',\n",
       " 'Hello, I just noticed that the service for my phone is not working. I am able to use wifi but nothing loads and I am unable to send any texts when I am not on wifi. Can you help me?',\n",
       " 'Wifi working but no phone',\n",
       " 'I mean, wifi saves me today but I have  ton of administration work I need to get finished this week. Can you help me fix this?',\n",
       " 'My cell service quit working. I can get wifi but no calls or texts.',\n",
       " 'Hello, I just noticed that my service for my phone is not working anymore. My wifi works just fine, but nothing loads when I am not on wifi. Can you help me with this problem?']"
      ]
     },
     "execution_count": 26,
     "metadata": {},
     "output_type": "execute_result"
    }
   ],
   "source": [
    "message_predictions = km.predict(X)\n",
    "\n",
    "test_sentence = vectorizer.transform(['wifi help'])\n",
    "#test_sentence = lsa.transform(test_sentence)\n",
    "\n",
    "test_sentence_prediction = km.predict(test_sentence)\n",
    "\n",
    "similar_messages = [message for i, message in enumerate(messages)\n",
    "                    if message_predictions[i] == test_sentence_prediction]\n",
    "similar_messages"
   ]
  },
  {
   "cell_type": "code",
   "execution_count": null,
   "metadata": {
    "collapsed": false
   },
   "outputs": [],
   "source": [
    "#labels = km.labels_\n",
    "#metrics.silhouette_score(X, labels, metric='euclidean')"
   ]
  }
 ],
 "metadata": {
  "kernelspec": {
   "display_name": "Python 3",
   "language": "python",
   "name": "python3"
  },
  "language_info": {
   "codemirror_mode": {
    "name": "ipython",
    "version": 3
   },
   "file_extension": ".py",
   "mimetype": "text/x-python",
   "name": "python",
   "nbconvert_exporter": "python",
   "pygments_lexer": "ipython3",
   "version": "3.4.3"
  }
 },
 "nbformat": 4,
 "nbformat_minor": 0
}
